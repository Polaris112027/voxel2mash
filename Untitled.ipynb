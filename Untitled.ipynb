{
 "cells": [
  {
   "cell_type": "code",
   "execution_count": 1,
   "id": "39a7cfce",
   "metadata": {},
   "outputs": [
    {
     "name": "stdout",
     "output_type": "stream",
     "text": [
      "No CUDA runtime is found, using CUDA_HOME='C:\\Program Files\\NVIDIA GPU Computing Toolkit\\CUDA\\v11.8'\n",
      "Using C:\\Users\\gaozi\\AppData\\Local\\torch_extensions\\torch_extensions\\Cache as PyTorch extensions root...\n",
      "Detected CUDA files, patching ldflags\n",
      "Emitting ninja build file C:\\Users\\gaozi\\AppData\\Local\\torch_extensions\\torch_extensions\\Cache\\rasterize_cuda\\build.ninja...\n"
     ]
    },
    {
     "name": "stderr",
     "output_type": "stream",
     "text": [
      "C:\\Users\\gaozi\\anaconda3\\lib\\site-packages\\torch\\utils\\cpp_extension.py:304: UserWarning: Error checking compiler version for cl: [WinError 2] 系统找不到指定的文件。\n",
      "  warnings.warn(f'Error checking compiler version for {compiler}: {error}')\n"
     ]
    },
    {
     "ename": "IndexError",
     "evalue": "list index out of range",
     "output_type": "error",
     "traceback": [
      "\u001b[1;31m---------------------------------------------------------------------------\u001b[0m",
      "\u001b[1;31mIndexError\u001b[0m                                Traceback (most recent call last)",
      "\u001b[1;32m~\\AppData\\Local\\Temp/ipykernel_16548/672674614.py\u001b[0m in \u001b[0;36m<module>\u001b[1;34m\u001b[0m\n\u001b[0;32m     10\u001b[0m \u001b[1;32mimport\u001b[0m \u001b[0mnumpy\u001b[0m \u001b[1;32mas\u001b[0m \u001b[0mnp\u001b[0m\u001b[1;33m\u001b[0m\u001b[1;33m\u001b[0m\u001b[0m\n\u001b[0;32m     11\u001b[0m \u001b[1;32mfrom\u001b[0m \u001b[0mtrain\u001b[0m \u001b[1;32mimport\u001b[0m \u001b[0mTrainer\u001b[0m\u001b[1;33m\u001b[0m\u001b[1;33m\u001b[0m\u001b[0m\n\u001b[1;32m---> 12\u001b[1;33m \u001b[1;32mfrom\u001b[0m \u001b[0mevaluate\u001b[0m \u001b[1;32mimport\u001b[0m \u001b[0mEvaluator\u001b[0m\u001b[1;33m\u001b[0m\u001b[1;33m\u001b[0m\u001b[0m\n\u001b[0m\u001b[0;32m     13\u001b[0m \u001b[1;32mfrom\u001b[0m \u001b[0mdata\u001b[0m\u001b[1;33m.\u001b[0m\u001b[0mchaos\u001b[0m \u001b[1;32mimport\u001b[0m \u001b[0mChaos\u001b[0m\u001b[1;33m\u001b[0m\u001b[1;33m\u001b[0m\u001b[0m\n\u001b[0;32m     14\u001b[0m \u001b[1;32mfrom\u001b[0m \u001b[0mdata\u001b[0m\u001b[1;33m.\u001b[0m\u001b[0mhippocampus\u001b[0m \u001b[1;32mimport\u001b[0m \u001b[0mHippocampus\u001b[0m\u001b[1;33m\u001b[0m\u001b[1;33m\u001b[0m\u001b[0m\n",
      "\u001b[1;32m~\\aBYLW\\voxel2mesh\\evaluate.py\u001b[0m in \u001b[0;36m<module>\u001b[1;34m\u001b[0m\n\u001b[0;32m     11\u001b[0m \u001b[1;32mfrom\u001b[0m \u001b[0mIPython\u001b[0m \u001b[1;32mimport\u001b[0m \u001b[0membed\u001b[0m\u001b[1;33m\u001b[0m\u001b[1;33m\u001b[0m\u001b[0m\n\u001b[0;32m     12\u001b[0m \u001b[1;32mimport\u001b[0m \u001b[0mwandb\u001b[0m\u001b[1;33m\u001b[0m\u001b[1;33m\u001b[0m\u001b[0m\n\u001b[1;32m---> 13\u001b[1;33m \u001b[1;32mfrom\u001b[0m \u001b[0mutils\u001b[0m\u001b[1;33m.\u001b[0m\u001b[0mrasterize\u001b[0m\u001b[1;33m.\u001b[0m\u001b[0mrasterize\u001b[0m \u001b[1;32mimport\u001b[0m \u001b[0mRasterize\u001b[0m\u001b[1;33m\u001b[0m\u001b[1;33m\u001b[0m\u001b[0m\n\u001b[0m\u001b[0;32m     14\u001b[0m \u001b[1;31m# from utils import stns\u001b[0m\u001b[1;33m\u001b[0m\u001b[1;33m\u001b[0m\u001b[0m\n\u001b[0;32m     15\u001b[0m \u001b[1;33m\u001b[0m\u001b[0m\n",
      "\u001b[1;32m~\\aBYLW\\voxel2mesh\\utils\\rasterize\\rasterize.py\u001b[0m in \u001b[0;36m<module>\u001b[1;34m\u001b[0m\n\u001b[0;32m      1\u001b[0m \u001b[1;32mfrom\u001b[0m \u001b[0mtorch\u001b[0m\u001b[1;33m.\u001b[0m\u001b[0mutils\u001b[0m\u001b[1;33m.\u001b[0m\u001b[0mcpp_extension\u001b[0m \u001b[1;32mimport\u001b[0m \u001b[0mload\u001b[0m\u001b[1;33m\u001b[0m\u001b[1;33m\u001b[0m\u001b[0m\n\u001b[1;32m----> 2\u001b[1;33m rasterize_cuda = load(\n\u001b[0m\u001b[0;32m      3\u001b[0m     'rasterize_cuda', ['./utils/rasterize/rasterize_cuda.cpp', './utils/rasterize/rasterize_cuda_kernel.cu'], verbose=True)\n\u001b[0;32m      4\u001b[0m \u001b[1;31m# rasterize_cuda = load(\u001b[0m\u001b[1;33m\u001b[0m\u001b[1;33m\u001b[0m\u001b[0m\n\u001b[0;32m      5\u001b[0m \u001b[1;31m#     'rasterize_cuda', ['./utils/rasterize/rasterize_cuda.cpp', './utils/rasterize/dst_tf_cuda_kernel.cu'], verbose=True)\u001b[0m\u001b[1;33m\u001b[0m\u001b[1;33m\u001b[0m\u001b[0m\n",
      "\u001b[1;32m~\\anaconda3\\lib\\site-packages\\torch\\utils\\cpp_extension.py\u001b[0m in \u001b[0;36mload\u001b[1;34m(name, sources, extra_cflags, extra_cuda_cflags, extra_ldflags, extra_include_paths, build_directory, verbose, with_cuda, is_python_module, is_standalone, keep_intermediates)\u001b[0m\n\u001b[0;32m   1077\u001b[0m                 verbose=True)\n\u001b[0;32m   1078\u001b[0m     '''\n\u001b[1;32m-> 1079\u001b[1;33m     return _jit_compile(\n\u001b[0m\u001b[0;32m   1080\u001b[0m         \u001b[0mname\u001b[0m\u001b[1;33m,\u001b[0m\u001b[1;33m\u001b[0m\u001b[1;33m\u001b[0m\u001b[0m\n\u001b[0;32m   1081\u001b[0m         \u001b[1;33m[\u001b[0m\u001b[0msources\u001b[0m\u001b[1;33m]\u001b[0m \u001b[1;32mif\u001b[0m \u001b[0misinstance\u001b[0m\u001b[1;33m(\u001b[0m\u001b[0msources\u001b[0m\u001b[1;33m,\u001b[0m \u001b[0mstr\u001b[0m\u001b[1;33m)\u001b[0m \u001b[1;32melse\u001b[0m \u001b[0msources\u001b[0m\u001b[1;33m,\u001b[0m\u001b[1;33m\u001b[0m\u001b[1;33m\u001b[0m\u001b[0m\n",
      "\u001b[1;32m~\\anaconda3\\lib\\site-packages\\torch\\utils\\cpp_extension.py\u001b[0m in \u001b[0;36m_jit_compile\u001b[1;34m(name, sources, extra_cflags, extra_cuda_cflags, extra_ldflags, extra_include_paths, build_directory, verbose, with_cuda, is_python_module, is_standalone, keep_intermediates)\u001b[0m\n\u001b[0;32m   1290\u001b[0m                             \u001b[0mclean_ctx\u001b[0m\u001b[1;33m=\u001b[0m\u001b[0mclean_ctx\u001b[0m\u001b[1;33m\u001b[0m\u001b[1;33m\u001b[0m\u001b[0m\n\u001b[0;32m   1291\u001b[0m                         )\n\u001b[1;32m-> 1292\u001b[1;33m                     _write_ninja_file_and_build_library(\n\u001b[0m\u001b[0;32m   1293\u001b[0m                         \u001b[0mname\u001b[0m\u001b[1;33m=\u001b[0m\u001b[0mname\u001b[0m\u001b[1;33m,\u001b[0m\u001b[1;33m\u001b[0m\u001b[1;33m\u001b[0m\u001b[0m\n\u001b[0;32m   1294\u001b[0m                         \u001b[0msources\u001b[0m\u001b[1;33m=\u001b[0m\u001b[0msources\u001b[0m\u001b[1;33m,\u001b[0m\u001b[1;33m\u001b[0m\u001b[1;33m\u001b[0m\u001b[0m\n",
      "\u001b[1;32m~\\anaconda3\\lib\\site-packages\\torch\\utils\\cpp_extension.py\u001b[0m in \u001b[0;36m_write_ninja_file_and_build_library\u001b[1;34m(name, sources, extra_cflags, extra_cuda_cflags, extra_ldflags, extra_include_paths, build_directory, verbose, with_cuda, is_standalone)\u001b[0m\n\u001b[0;32m   1389\u001b[0m     \u001b[1;31m# NOTE: Emitting a new ninja build file does not cause re-compilation if\u001b[0m\u001b[1;33m\u001b[0m\u001b[1;33m\u001b[0m\u001b[0m\n\u001b[0;32m   1390\u001b[0m     \u001b[1;31m# the sources did not change, so it's ok to re-emit (and it's fast).\u001b[0m\u001b[1;33m\u001b[0m\u001b[1;33m\u001b[0m\u001b[0m\n\u001b[1;32m-> 1391\u001b[1;33m     _write_ninja_file_to_build_library(\n\u001b[0m\u001b[0;32m   1392\u001b[0m         \u001b[0mpath\u001b[0m\u001b[1;33m=\u001b[0m\u001b[0mbuild_file_path\u001b[0m\u001b[1;33m,\u001b[0m\u001b[1;33m\u001b[0m\u001b[1;33m\u001b[0m\u001b[0m\n\u001b[0;32m   1393\u001b[0m         \u001b[0mname\u001b[0m\u001b[1;33m=\u001b[0m\u001b[0mname\u001b[0m\u001b[1;33m,\u001b[0m\u001b[1;33m\u001b[0m\u001b[1;33m\u001b[0m\u001b[0m\n",
      "\u001b[1;32m~\\anaconda3\\lib\\site-packages\\torch\\utils\\cpp_extension.py\u001b[0m in \u001b[0;36m_write_ninja_file_to_build_library\u001b[1;34m(path, name, sources, extra_cflags, extra_cuda_cflags, extra_ldflags, extra_include_paths, with_cuda, is_standalone)\u001b[0m\n\u001b[0;32m   1780\u001b[0m                    for s in sources]\n\u001b[0;32m   1781\u001b[0m     \u001b[1;32melif\u001b[0m \u001b[0mwith_cuda\u001b[0m\u001b[1;33m:\u001b[0m\u001b[1;33m\u001b[0m\u001b[1;33m\u001b[0m\u001b[0m\n\u001b[1;32m-> 1782\u001b[1;33m         \u001b[0mcuda_flags\u001b[0m \u001b[1;33m=\u001b[0m \u001b[0mcommon_cflags\u001b[0m \u001b[1;33m+\u001b[0m \u001b[0mCOMMON_NVCC_FLAGS\u001b[0m \u001b[1;33m+\u001b[0m \u001b[0m_get_cuda_arch_flags\u001b[0m\u001b[1;33m(\u001b[0m\u001b[1;33m)\u001b[0m\u001b[1;33m\u001b[0m\u001b[1;33m\u001b[0m\u001b[0m\n\u001b[0m\u001b[0;32m   1783\u001b[0m         \u001b[1;32mif\u001b[0m \u001b[0mIS_WINDOWS\u001b[0m\u001b[1;33m:\u001b[0m\u001b[1;33m\u001b[0m\u001b[1;33m\u001b[0m\u001b[0m\n\u001b[0;32m   1784\u001b[0m             \u001b[1;32mfor\u001b[0m \u001b[0mflag\u001b[0m \u001b[1;32min\u001b[0m \u001b[0mCOMMON_MSVC_FLAGS\u001b[0m\u001b[1;33m:\u001b[0m\u001b[1;33m\u001b[0m\u001b[1;33m\u001b[0m\u001b[0m\n",
      "\u001b[1;32m~\\anaconda3\\lib\\site-packages\\torch\\utils\\cpp_extension.py\u001b[0m in \u001b[0;36m_get_cuda_arch_flags\u001b[1;34m(cflags)\u001b[0m\n\u001b[0;32m   1559\u001b[0m                 \u001b[0march_list\u001b[0m\u001b[1;33m.\u001b[0m\u001b[0mappend\u001b[0m\u001b[1;33m(\u001b[0m\u001b[0march\u001b[0m\u001b[1;33m)\u001b[0m\u001b[1;33m\u001b[0m\u001b[1;33m\u001b[0m\u001b[0m\n\u001b[0;32m   1560\u001b[0m         \u001b[0march_list\u001b[0m \u001b[1;33m=\u001b[0m \u001b[0msorted\u001b[0m\u001b[1;33m(\u001b[0m\u001b[0march_list\u001b[0m\u001b[1;33m)\u001b[0m\u001b[1;33m\u001b[0m\u001b[1;33m\u001b[0m\u001b[0m\n\u001b[1;32m-> 1561\u001b[1;33m         \u001b[0march_list\u001b[0m\u001b[1;33m[\u001b[0m\u001b[1;33m-\u001b[0m\u001b[1;36m1\u001b[0m\u001b[1;33m]\u001b[0m \u001b[1;33m+=\u001b[0m \u001b[1;34m'+PTX'\u001b[0m\u001b[1;33m\u001b[0m\u001b[1;33m\u001b[0m\u001b[0m\n\u001b[0m\u001b[0;32m   1562\u001b[0m     \u001b[1;32melse\u001b[0m\u001b[1;33m:\u001b[0m\u001b[1;33m\u001b[0m\u001b[1;33m\u001b[0m\u001b[0m\n\u001b[0;32m   1563\u001b[0m         \u001b[1;31m# Deal with lists that are ' ' separated (only deal with ';' after)\u001b[0m\u001b[1;33m\u001b[0m\u001b[1;33m\u001b[0m\u001b[0m\n",
      "\u001b[1;31mIndexError\u001b[0m: list index out of range"
     ]
    }
   ],
   "source": [
    "# %load data_preprocess.py\n",
    " \n",
    "import os\n",
    "GPU_index = \"0\"\n",
    "os.environ[\"CUDA_VISIBLE_DEVICES\"] = GPU_index\n",
    "\n",
    "  \n",
    "import logging\n",
    "import torch\n",
    "import numpy as np\n",
    "from train import Trainer\n",
    "from evaluate import Evaluator  \n",
    "from data.chaos import Chaos\n",
    "from data.hippocampus import Hippocampus\n",
    "\n",
    "from shutil import copytree, ignore_patterns\n",
    "import torch.optim as optim\n",
    "from torch.utils.data import DataLoader\n",
    "from utils.utils_common import DataModes\n",
    "import wandb\n",
    "from IPython import embed \n",
    "from utils.utils_common import mkdir\n",
    "\n",
    "from config import load_config\n",
    "from model.voxel2mesh import Voxel2Mesh as network\n",
    "\n",
    " \n",
    "def main():\n",
    " \n",
    "     \n",
    "\n",
    "    # Initialize\n",
    "    cfg = load_config(None)\n",
    " \n",
    "  \n",
    "    print(\"Pre-process data\") \n",
    "    data_obj = cfg.data_obj  \n",
    "\n",
    "    # Run pre-processing\n",
    "    data = data_obj.pre_process_dataset(cfg)\n",
    "  \n",
    "\n",
    "if __name__ == \"__main__\": \n",
    "    main()"
   ]
  },
  {
   "cell_type": "code",
   "execution_count": 2,
   "id": "0d68280f",
   "metadata": {},
   "outputs": [
    {
     "name": "stdout",
     "output_type": "stream",
     "text": [
      "C:\\Program Files\\NVIDIA GPU Computing Toolkit\\CUDA\\v11.8\n"
     ]
    }
   ],
   "source": [
    "import os\n",
    "print(os.environ.get('CUDA_PATH'))"
   ]
  },
  {
   "cell_type": "code",
   "execution_count": 5,
   "id": "8e01a129",
   "metadata": {
    "collapsed": true
   },
   "outputs": [
    {
     "name": "stdout",
     "output_type": "stream",
     "text": [
      "Collecting Ninja\n",
      "  Downloading ninja-1.11.1-py2.py3-none-win_amd64.whl (313 kB)\n",
      "Installing collected packages: Ninja\n",
      "Successfully installed Ninja-1.11.1\n",
      "Note: you may need to restart the kernel to use updated packages.\n"
     ]
    }
   ],
   "source": [
    "pip install Ninja"
   ]
  },
  {
   "cell_type": "code",
   "execution_count": 3,
   "id": "bdef4ddd",
   "metadata": {
    "collapsed": true
   },
   "outputs": [
    {
     "name": "stdout",
     "output_type": "stream",
     "text": [
      "Collecting load\n",
      "  Downloading load-2020.12.3.tar.gz (1.3 kB)\n",
      "Building wheels for collected packages: load\n",
      "  Building wheel for load (setup.py): started\n",
      "  Building wheel for load (setup.py): finished with status 'done'\n",
      "  Created wheel for load: filename=load-2020.12.3-py3-none-any.whl size=1343 sha256=aaa92e9850df0806dec0dcbeb4f9bbbe0f8409022754d7a947969536d50635ec\n",
      "  Stored in directory: c:\\users\\gaozi\\appdata\\local\\pip\\cache\\wheels\\74\\34\\b7\\f389be392c382b31ceb4c8a497adefd13ffb2321fa26b14945\n",
      "Successfully built load\n",
      "Installing collected packages: load\n",
      "Successfully installed load-2020.12.3\n",
      "Note: you may need to restart the kernel to use updated packages.\n"
     ]
    }
   ],
   "source": [
    "pip install load"
   ]
  },
  {
   "cell_type": "code",
   "execution_count": 3,
   "id": "8ae5ee34",
   "metadata": {
    "collapsed": true
   },
   "outputs": [
    {
     "name": "stdout",
     "output_type": "stream",
     "text": [
      "Collecting wandb\n",
      "  Downloading wandb-0.13.5-py2.py3-none-any.whl (1.9 MB)\n",
      "Requirement already satisfied: PyYAML in c:\\users\\gaozi\\anaconda3\\lib\\site-packages (from wandb) (6.0)\n",
      "Requirement already satisfied: six>=1.13.0 in c:\\users\\gaozi\\anaconda3\\lib\\site-packages (from wandb) (1.16.0)\n",
      "Collecting pathtools\n",
      "  Downloading pathtools-0.1.2.tar.gz (11 kB)\n",
      "Requirement already satisfied: setuptools in c:\\users\\gaozi\\anaconda3\\lib\\site-packages (from wandb) (58.0.4)\n",
      "Requirement already satisfied: Click!=8.0.0,>=7.0 in c:\\users\\gaozi\\anaconda3\\lib\\site-packages (from wandb) (8.0.3)\n",
      "Collecting docker-pycreds>=0.4.0\n",
      "  Downloading docker_pycreds-0.4.0-py2.py3-none-any.whl (9.0 kB)\n",
      "Collecting GitPython>=1.0.0\n",
      "  Downloading GitPython-3.1.29-py3-none-any.whl (182 kB)\n",
      "Collecting shortuuid>=0.5.0\n",
      "  Downloading shortuuid-1.0.11-py3-none-any.whl (10 kB)\n",
      "Requirement already satisfied: requests<3,>=2.0.0 in c:\\users\\gaozi\\anaconda3\\lib\\site-packages (from wandb) (2.26.0)\n",
      "Requirement already satisfied: protobuf!=4.0.*,!=4.21.0,<5,>=3.12.0 in c:\\users\\gaozi\\anaconda3\\lib\\site-packages (from wandb) (3.20.1)\n",
      "Collecting setproctitle\n",
      "  Downloading setproctitle-1.3.2-cp39-cp39-win_amd64.whl (11 kB)\n",
      "Requirement already satisfied: psutil>=5.0.0 in c:\\users\\gaozi\\anaconda3\\lib\\site-packages (from wandb) (5.8.0)\n",
      "Collecting promise<3,>=2.0\n",
      "  Downloading promise-2.3.tar.gz (19 kB)\n",
      "Collecting sentry-sdk>=1.0.0\n",
      "  Downloading sentry_sdk-1.11.0-py2.py3-none-any.whl (168 kB)\n",
      "Requirement already satisfied: colorama in c:\\users\\gaozi\\anaconda3\\lib\\site-packages (from Click!=8.0.0,>=7.0->wandb) (0.4.4)\n",
      "Collecting gitdb<5,>=4.0.1\n",
      "  Downloading gitdb-4.0.9-py3-none-any.whl (63 kB)\n",
      "Collecting smmap<6,>=3.0.1\n",
      "  Downloading smmap-5.0.0-py3-none-any.whl (24 kB)\n",
      "Requirement already satisfied: certifi>=2017.4.17 in c:\\users\\gaozi\\anaconda3\\lib\\site-packages (from requests<3,>=2.0.0->wandb) (2021.10.8)\n",
      "Requirement already satisfied: charset-normalizer~=2.0.0 in c:\\users\\gaozi\\anaconda3\\lib\\site-packages (from requests<3,>=2.0.0->wandb) (2.0.4)\n",
      "Requirement already satisfied: idna<4,>=2.5 in c:\\users\\gaozi\\anaconda3\\lib\\site-packages (from requests<3,>=2.0.0->wandb) (3.2)\n",
      "Requirement already satisfied: urllib3<1.27,>=1.21.1 in c:\\users\\gaozi\\anaconda3\\lib\\site-packages (from requests<3,>=2.0.0->wandb) (1.26.7)\n",
      "Collecting urllib3<1.27,>=1.21.1\n",
      "  Downloading urllib3-1.26.12-py2.py3-none-any.whl (140 kB)\n",
      "Building wheels for collected packages: promise, pathtools\n",
      "  Building wheel for promise (setup.py): started\n",
      "  Building wheel for promise (setup.py): finished with status 'done'\n",
      "  Created wheel for promise: filename=promise-2.3-py3-none-any.whl size=21502 sha256=c5daee65b4241b527606c1b2a108270e4b76782657942f9c94683c2bfe76d41a\n",
      "  Stored in directory: c:\\users\\gaozi\\appdata\\local\\pip\\cache\\wheels\\e1\\e8\\83\\ddea66100678d139b14bc87692ece57c6a2a937956d2532608\n",
      "  Building wheel for pathtools (setup.py): started\n",
      "  Building wheel for pathtools (setup.py): finished with status 'done'\n",
      "  Created wheel for pathtools: filename=pathtools-0.1.2-py3-none-any.whl size=8807 sha256=fc1f238e88175798adee47566b04cbfec63c57c821b23086fc21a106deed6742\n",
      "  Stored in directory: c:\\users\\gaozi\\appdata\\local\\pip\\cache\\wheels\\b7\\0a\\67\\ada2a22079218c75a88361c0782855cc72aebc4d18d0289d05\n",
      "Successfully built promise pathtools\n",
      "Installing collected packages: smmap, urllib3, gitdb, shortuuid, setproctitle, sentry-sdk, promise, pathtools, GitPython, docker-pycreds, wandb\n",
      "  Attempting uninstall: urllib3\n",
      "    Found existing installation: urllib3 1.26.7\n",
      "    Uninstalling urllib3-1.26.7:\n",
      "      Successfully uninstalled urllib3-1.26.7\n",
      "Successfully installed GitPython-3.1.29 docker-pycreds-0.4.0 gitdb-4.0.9 pathtools-0.1.2 promise-2.3 sentry-sdk-1.11.0 setproctitle-1.3.2 shortuuid-1.0.11 smmap-5.0.0 urllib3-1.26.12 wandb-0.13.5\n",
      "Note: you may need to restart the kernel to use updated packages.\n"
     ]
    },
    {
     "name": "stderr",
     "output_type": "stream",
     "text": [
      "ERROR: pip's dependency resolver does not currently take into account all the packages that are installed. This behaviour is the source of the following dependency conflicts.\n",
      "conda-repo-cli 1.0.4 requires pathlib, which is not installed.\n",
      "anaconda-project 0.10.1 requires ruamel-yaml, which is not installed.\n"
     ]
    }
   ],
   "source": [
    "pip install wandb"
   ]
  },
  {
   "cell_type": "code",
   "execution_count": null,
   "id": "0086af24",
   "metadata": {},
   "outputs": [],
   "source": [
    "\"C:\\Users\\gaozi\\anaconda3\\Lib\\site-packages\\wandb\\sdk\\launch\\builder\\docker.py\""
   ]
  }
 ],
 "metadata": {
  "kernelspec": {
   "display_name": "Python 3 (ipykernel)",
   "language": "python",
   "name": "python3"
  },
  "language_info": {
   "codemirror_mode": {
    "name": "ipython",
    "version": 3
   },
   "file_extension": ".py",
   "mimetype": "text/x-python",
   "name": "python",
   "nbconvert_exporter": "python",
   "pygments_lexer": "ipython3",
   "version": "3.9.7"
  }
 },
 "nbformat": 4,
 "nbformat_minor": 5
}
